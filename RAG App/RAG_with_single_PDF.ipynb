{
 "cells": [
  {
   "cell_type": "code",
   "execution_count": 1,
   "id": "8d352269-3c66-477c-ad32-e07af4d3e822",
   "metadata": {},
   "outputs": [],
   "source": [
    "import os \n",
    "import sys\n",
    "import pypdf\n",
    "\n",
    "from langchain.llms import Ollama\n",
    "from langchain_chroma import Chroma\n",
    "from langchain_community.embeddings.fastembed import FastEmbedEmbeddings\n",
    "from langchain_community.document_loaders import PyPDFLoader\n",
    "from langchain.text_splitter import RecursiveCharacterTextSplitter\n",
    "from langchain.prompts import PromptTemplate\n",
    "from langchain.chains.combine_documents import create_stuff_documents_chain\n",
    "from langchain.chains import create_retrieval_chain"
   ]
  },
  {
   "cell_type": "code",
   "execution_count": 2,
   "id": "f91007da-15d2-4d6a-b91a-7d343e3cb3bd",
   "metadata": {},
   "outputs": [],
   "source": [
    "#Creating embeddings of the text from the PDF document\n",
    "def ingest():\n",
    "    #Load the document\n",
    "    loader = PyPDFLoader(\"D:\\\\Ubuntu_Data\\\\Jupyter_Notebook\\\\RAG\\\\Paper1.pdf\")\n",
    "    pages = loader.load_and_split()\n",
    "    \n",
    "    #Split the pages by char\n",
    "    text_splitter = RecursiveCharacterTextSplitter(\n",
    "        chunk_size=1024,\n",
    "        chunk_overlap=100,\n",
    "        length_function=len,\n",
    "        add_start_index=True,\n",
    "    )\n",
    "    chunks = text_splitter.split_documents(pages)\n",
    "    print(f\"Split {len(pages)} documents into {len(chunks)} chunks.\")\n",
    "\n",
    "    #Create embeddings\n",
    "    embedding = FastEmbedEmbeddings()\n",
    "    #Create Vector store\n",
    "    Chroma.from_documents(documents=chunks, \n",
    "                          embedding=embedding, \n",
    "                          persist_directory=\"./sql_chroma_db\")"
   ]
  },
  {
   "cell_type": "code",
   "execution_count": 3,
   "id": "7ece4259-879a-4da5-b95b-57a099166b79",
   "metadata": {},
   "outputs": [
    {
     "name": "stdout",
     "output_type": "stream",
     "text": [
      "The token has not been saved to the git credentials helper. Pass `add_to_git_credential=True` in this function directly or `--add-to-git-credential` if using via `huggingface-cli` if you want to set the git credential as well.\n",
      "Token is valid (permission: fineGrained).\n",
      "Your token has been saved to C:\\Users\\remya\\.cache\\huggingface\\token\n",
      "Login successful\n"
     ]
    }
   ],
   "source": [
    "#Create an access token from Hugging face and use the same as the read and write token below\n",
    "from huggingface_hub import login\n",
    "access_token_read = \"hf**********************************L\"\n",
    "access_token_write = \"hf**********************************L\"\n",
    "login(token = access_token_read)"
   ]
  },
  {
   "cell_type": "code",
   "execution_count": 4,
   "id": "88aeb71b-66f1-4e6e-9d38-9f8ae56d35c6",
   "metadata": {},
   "outputs": [],
   "source": [
    "#Run this only once to create the vector database \n",
    "#ingest()"
   ]
  },
  {
   "cell_type": "code",
   "execution_count": 5,
   "id": "b9082ff9-a132-44de-bce8-329ed0e1631c",
   "metadata": {},
   "outputs": [],
   "source": [
    "def rag_chain():\n",
    "    #model definition\n",
    "    model = Ollama(model=\"llama3\", base_url=\"http://localhost:11434/\", temperature = 0.0)\n",
    "    #Low temperature = less creativity or variation in the answer by the model\n",
    "\n",
    "    #prompt definition\n",
    "    prompt = PromptTemplate.from_template(\n",
    "        \"\"\"\n",
    "        <s> [Instructions] You are a friendly assistant. Answer the question based only on the following context. \n",
    "        If you don't know the answer, then reply, No Context availabel for this question {input}. [/Instructions] </s> \n",
    "        [Instructions] Question: {input} \n",
    "        Context: {context} \n",
    "        Answer: [/Instructions]\n",
    "        \"\"\"\n",
    "    )\n",
    "    \n",
    "    #Load text embeddings from vector store\n",
    "    embedding = FastEmbedEmbeddings()\n",
    "    vector_store = Chroma(persist_directory=\"./sql_chroma_db\", embedding_function=embedding)\n",
    "\n",
    "    #Create chain\n",
    "    retriever = vector_store.as_retriever(\n",
    "        search_type=\"similarity_score_threshold\",\n",
    "        search_kwargs={\n",
    "            \"k\": 3,\n",
    "            \"score_threshold\": 0.5,\n",
    "        },\n",
    "    )\n",
    "\n",
    "    document_chain = create_stuff_documents_chain(model, prompt)\n",
    "    chain = create_retrieval_chain(retriever, document_chain)\n",
    "\n",
    "    return chain"
   ]
  },
  {
   "cell_type": "code",
   "execution_count": 7,
   "id": "5c7f839b-54e0-40f0-a47e-35bf783a8e38",
   "metadata": {},
   "outputs": [
    {
     "data": {
      "application/vnd.jupyter.widget-view+json": {
       "model_id": "0a29bd63b80e445dbd5d2c2284570d05",
       "version_major": 2,
       "version_minor": 0
      },
      "text/plain": [
       "Fetching 5 files:   0%|          | 0/5 [00:00<?, ?it/s]"
      ]
     },
     "metadata": {},
     "output_type": "display_data"
    },
    {
     "name": "stdout",
     "output_type": "stream",
     "text": [
      "chain generated\n"
     ]
    }
   ],
   "source": [
    "chain = rag_chain()\n",
    "print(\"chain generated\")"
   ]
  },
  {
   "cell_type": "code",
   "execution_count": 8,
   "id": "6ee1078f-9a87-41d2-9856-8e553e09fd0b",
   "metadata": {},
   "outputs": [
    {
     "name": "stdout",
     "output_type": "stream",
     "text": [
      "A friendly assistant here!\n",
      "\n",
      "Based on the provided context, I'd say that a \"lobed colloid\" refers to a type of colloidal particle that has uniform lobes or protrusions. In other words, it's a colloidal particle with a specific shape characterized by one or more rounded or pointed projections (lobes).\n"
     ]
    }
   ],
   "source": [
    "result = chain.invoke({\"input\": \"What is a lobed colloid?\"})\n",
    "print(result[\"answer\"])"
   ]
  },
  {
   "cell_type": "code",
   "execution_count": 9,
   "id": "82d268d2-2fa7-43b4-8c7f-8cfa15b791b5",
   "metadata": {},
   "outputs": [
    {
     "name": "stdout",
     "output_type": "stream",
     "text": [
      "Polydispersity refers to the degree of variation in the size or shape of particles or molecules within a system. In this context, it appears that polydispersity is being used to describe the range of pore sizes and structures formed in porous hydrogel-like scaffolds. The text suggests that by tuning the polydispersity, one can attain a desired structure, such as a crystalline structure, which may be desirable for certain applications.\n"
     ]
    }
   ],
   "source": [
    "result1 = chain.invoke({\"input\": \"What is polydispersity?\"})\n",
    "print(result1[\"answer\"])"
   ]
  },
  {
   "cell_type": "code",
   "execution_count": 10,
   "id": "683d0e75-5a7e-4339-abda-3328b5a06a84",
   "metadata": {},
   "outputs": [
    {
     "name": "stdout",
     "output_type": "stream",
     "text": [
      "The radial distribution function (RDF) gives the local density and arrangement of particles with respect to the distance from a reference particle (r) in comparison to the bulk density (ρ). It is calculated using equation 4, g(r), which determines the spatial arrangement and phase characteristics of each system.\n"
     ]
    }
   ],
   "source": [
    "result2 = chain.invoke({\"input\": \"What is radial distribution function?\"})\n",
    "print(result2[\"answer\"])"
   ]
  },
  {
   "cell_type": "code",
   "execution_count": 11,
   "id": "2bbc5e01-7e1c-4cd5-960c-cfdb295df33a",
   "metadata": {},
   "outputs": [],
   "source": [
    "#Creating a function for the query search\n",
    "def ask(query: str):\n",
    "    #create chain\n",
    "    chain = rag_chain()\n",
    "    #invoke chain\n",
    "    result = chain.invoke({\"input\": query})\n",
    "    #print results with source\n",
    "    print(result[\"answer\"])\n",
    "    for doc in result[\"context\"]:\n",
    "        print(\"Source: \", doc.metadata[\"source\"])"
   ]
  },
  {
   "cell_type": "code",
   "execution_count": 12,
   "id": "172f35e3-946e-4d97-9770-5bb2b5edecf0",
   "metadata": {},
   "outputs": [
    {
     "data": {
      "application/vnd.jupyter.widget-view+json": {
       "model_id": "8ae70378d16b4de491d065c6048bb2df",
       "version_major": 2,
       "version_minor": 0
      },
      "text/plain": [
       "Fetching 5 files:   0%|          | 0/5 [00:00<?, ?it/s]"
      ]
     },
     "metadata": {},
     "output_type": "display_data"
    },
    {
     "name": "stdout",
     "output_type": "stream",
     "text": [
      "A friendly assistant here!\n",
      "\n",
      "Based on the provided context, I'd say that a \"lobed colloid\" refers to a type of colloidal particle that has uniform lobes or protrusions. In other words, it's a colloidal particle with a specific shape characterized by one or more rounded or pointed projections (lobes).\n",
      "Source:  D:\\Ubuntu_Data\\Jupyter_Notebook\\RAG\\Paper1.pdf\n",
      "Source:  D:\\Ubuntu_Data\\Jupyter_Notebook\\RAG\\Paper1.pdf\n",
      "Source:  D:\\Ubuntu_Data\\Jupyter_Notebook\\RAG\\Paper1.pdf\n"
     ]
    }
   ],
   "source": [
    "ask(\"What is a lobed colloid?\")"
   ]
  },
  {
   "cell_type": "code",
   "execution_count": 13,
   "id": "62cafc1c-f7c4-4a42-b578-ba29e6015ada",
   "metadata": {},
   "outputs": [
    {
     "data": {
      "application/vnd.jupyter.widget-view+json": {
       "model_id": "40a46ff91ae84b9dae065f89df41973a",
       "version_major": 2,
       "version_minor": 0
      },
      "text/plain": [
       "Fetching 5 files:   0%|          | 0/5 [00:00<?, ?it/s]"
      ]
     },
     "metadata": {},
     "output_type": "display_data"
    },
    {
     "name": "stdout",
     "output_type": "stream",
     "text": [
      "The radial distribution function (RDF) gives the local density and arrangement of particles with respect to the distance from a reference particle (r) in comparison to the bulk density (ρ). It is calculated using equation 4, g(r), which determines the spatial arrangement and phase characteristics of each system.\n",
      "Source:  D:\\Ubuntu_Data\\Jupyter_Notebook\\RAG\\Paper1.pdf\n",
      "Source:  D:\\Ubuntu_Data\\Jupyter_Notebook\\RAG\\Paper1.pdf\n",
      "Source:  D:\\Ubuntu_Data\\Jupyter_Notebook\\RAG\\Paper1.pdf\n"
     ]
    }
   ],
   "source": [
    "ask(\"What is radial distribution function?\")"
   ]
  },
  {
   "cell_type": "code",
   "execution_count": null,
   "id": "be0665fd-c6cf-4e2e-8d20-195914aae96c",
   "metadata": {},
   "outputs": [],
   "source": []
  }
 ],
 "metadata": {
  "kernelspec": {
   "display_name": "Python 3 (ipykernel)",
   "language": "python",
   "name": "python3"
  },
  "language_info": {
   "codemirror_mode": {
    "name": "ipython",
    "version": 3
   },
   "file_extension": ".py",
   "mimetype": "text/x-python",
   "name": "python",
   "nbconvert_exporter": "python",
   "pygments_lexer": "ipython3",
   "version": "3.12.3"
  }
 },
 "nbformat": 4,
 "nbformat_minor": 5
}
